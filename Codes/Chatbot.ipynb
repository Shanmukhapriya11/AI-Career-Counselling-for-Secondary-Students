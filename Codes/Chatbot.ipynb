{
 "cells": [
  {
   "cell_type": "code",
   "execution_count": 3,
   "id": "bb85a983-1033-4d6a-a4ee-db1870b5452d",
   "metadata": {},
   "outputs": [
    {
     "name": "stdout",
     "output_type": "stream",
     "text": [
      "Requirement already satisfied: googletrans==4.0.0-rc1 in c:\\users\\psps0\\anaconda3\\lib\\site-packages (4.0.0rc1)\n",
      "Requirement already satisfied: httpx==0.13.3 in c:\\users\\psps0\\anaconda3\\lib\\site-packages (from googletrans==4.0.0-rc1) (0.13.3)\n",
      "Requirement already satisfied: certifi in c:\\users\\psps0\\anaconda3\\lib\\site-packages (from httpx==0.13.3->googletrans==4.0.0-rc1) (2024.2.2)\n",
      "Requirement already satisfied: hstspreload in c:\\users\\psps0\\anaconda3\\lib\\site-packages (from httpx==0.13.3->googletrans==4.0.0-rc1) (2024.9.1)\n",
      "Requirement already satisfied: sniffio in c:\\users\\psps0\\anaconda3\\lib\\site-packages (from httpx==0.13.3->googletrans==4.0.0-rc1) (1.3.0)\n",
      "Requirement already satisfied: chardet==3.* in c:\\users\\psps0\\anaconda3\\lib\\site-packages (from httpx==0.13.3->googletrans==4.0.0-rc1) (3.0.4)\n",
      "Requirement already satisfied: idna==2.* in c:\\users\\psps0\\anaconda3\\lib\\site-packages (from httpx==0.13.3->googletrans==4.0.0-rc1) (2.10)\n",
      "Requirement already satisfied: rfc3986<2,>=1.3 in c:\\users\\psps0\\anaconda3\\lib\\site-packages (from httpx==0.13.3->googletrans==4.0.0-rc1) (1.5.0)\n",
      "Requirement already satisfied: httpcore==0.9.* in c:\\users\\psps0\\anaconda3\\lib\\site-packages (from httpx==0.13.3->googletrans==4.0.0-rc1) (0.9.1)\n",
      "Requirement already satisfied: h11<0.10,>=0.8 in c:\\users\\psps0\\anaconda3\\lib\\site-packages (from httpcore==0.9.*->httpx==0.13.3->googletrans==4.0.0-rc1) (0.9.0)\n",
      "Requirement already satisfied: h2==3.* in c:\\users\\psps0\\anaconda3\\lib\\site-packages (from httpcore==0.9.*->httpx==0.13.3->googletrans==4.0.0-rc1) (3.2.0)\n",
      "Requirement already satisfied: hyperframe<6,>=5.2.0 in c:\\users\\psps0\\anaconda3\\lib\\site-packages (from h2==3.*->httpcore==0.9.*->httpx==0.13.3->googletrans==4.0.0-rc1) (5.2.0)\n",
      "Requirement already satisfied: hpack<4,>=3.0 in c:\\users\\psps0\\anaconda3\\lib\\site-packages (from h2==3.*->httpcore==0.9.*->httpx==0.13.3->googletrans==4.0.0-rc1) (3.0.0)\n",
      "Note: you may need to restart the kernel to use updated packages.\n"
     ]
    }
   ],
   "source": [
    "pip install googletrans==4.0.0-rc1"
   ]
  },
  {
   "cell_type": "code",
   "execution_count": 2,
   "id": "fa3cbbbe-d3fa-40a4-aef7-e509b8b1895e",
   "metadata": {},
   "outputs": [
    {
     "name": "stdout",
     "output_type": "stream",
     "text": [
      "Welcome to the Career Counseling Chatbot!\n"
     ]
    },
    {
     "name": "stdin",
     "output_type": "stream",
     "text": [
      "Please enter your IQ score:  84\n",
      "What career do you want to pursue?  novelist\n"
     ]
    },
    {
     "name": "stdout",
     "output_type": "stream",
     "text": [
      "While novelist is a wonderful choice, based on your IQ score, I recommend considering Office Assistant.\n"
     ]
    },
    {
     "name": "stdin",
     "output_type": "stream",
     "text": [
      "Would you like this in another language? (yes/no):  yes\n",
      "Which language? (te for Telugu, hi for Hindi, en for English):  telugu\n"
     ]
    },
    {
     "name": "stdout",
     "output_type": "stream",
     "text": [
      "Translated Guidance: నవలా రచయిత మీ ఐక్యూ స్కోరు ఆధారంగా అద్భుతమైన ఎంపిక అయితే, ఆఫీస్ అసిస్టెంట్‌ను పరిగణనలోకి తీసుకోవాలని నేను సిఫార్సు చేస్తున్నాను.\n"
     ]
    }
   ],
   "source": [
    "import random\n",
    "from googletrans import Translator\n",
    "\n",
    "# Initialize the translator\n",
    "translator = Translator()\n",
    "\n",
    "# Function to translate user input\n",
    "def translate_text(text, target_language):\n",
    "    translated = translator.translate(text, dest=target_language)\n",
    "    return translated.text\n",
    "\n",
    "# Function to provide career guidance based on IQ and preference\n",
    "def get_career_guidance(preference, iq_score):\n",
    "    # Example logic for career guidance\n",
    "    if 70 <= iq_score < 90:\n",
    "        careers = ['Office Assistant', 'Customer Service Representative']\n",
    "    elif 90 <= iq_score < 110:\n",
    "        careers = ['Sales Executive', 'Teacher']\n",
    "    elif 110 <= iq_score < 130:\n",
    "        careers = ['Engineer', 'Healthcare Professional']\n",
    "    else:\n",
    "        careers = ['Doctor', 'Scientist']\n",
    "\n",
    "    if preference.lower() in [career.lower() for career in careers]:\n",
    "        return f\"Great choice! To become a {preference}, you should focus on relevant skills and education.\"\n",
    "    else:\n",
    "        return f\"While {preference} is a wonderful choice, based on your IQ score, I recommend considering {random.choice(careers)}.\"\n",
    "\n",
    "# Main chatbot function\n",
    "def chatbot():\n",
    "    print(\"Welcome to the Career Counseling Chatbot!\")\n",
    "    \n",
    "    # Get user IQ score\n",
    "    iq_score = int(input(\"Please enter your IQ score: \"))\n",
    "    \n",
    "    # Get user career preference\n",
    "    user_preference = input(\"What career do you want to pursue? \")\n",
    "\n",
    "    # Get guidance based on user input\n",
    "    guidance = get_career_guidance(user_preference, iq_score)\n",
    "    print(guidance)\n",
    "\n",
    "    # Option for translation\n",
    "    translate = input(\"Would you like this in another language? (yes/no): \").lower()\n",
    "    if translate == 'yes':\n",
    "        language = input(\"Which language? (te for Telugu, hi for Hindi, en for English): \")\n",
    "        translated_guidance = translate_text(guidance, language)\n",
    "        print(f\"Translated Guidance: {translated_guidance}\")\n",
    "\n",
    "# Run the chatbot\n",
    "if __name__ == \"__main__\":\n",
    "    chatbot()\n"
   ]
  },
  {
   "cell_type": "code",
   "execution_count": null,
   "id": "a3be6905-e25d-4ab6-9765-5b7c999796c2",
   "metadata": {},
   "outputs": [],
   "source": []
  }
 ],
 "metadata": {
  "kernelspec": {
   "display_name": "Python 3 (ipykernel)",
   "language": "python",
   "name": "python3"
  },
  "language_info": {
   "codemirror_mode": {
    "name": "ipython",
    "version": 3
   },
   "file_extension": ".py",
   "mimetype": "text/x-python",
   "name": "python",
   "nbconvert_exporter": "python",
   "pygments_lexer": "ipython3",
   "version": "3.11.7"
  }
 },
 "nbformat": 4,
 "nbformat_minor": 5
}
